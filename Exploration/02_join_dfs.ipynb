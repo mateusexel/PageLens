{
 "cells": [
  {
   "cell_type": "code",
   "execution_count": 1,
   "metadata": {},
   "outputs": [],
   "source": [
    "import pandas as pd\n",
    "import numpy as np\n",
    "import ast"
   ]
  },
  {
   "cell_type": "code",
   "execution_count": 2,
   "metadata": {},
   "outputs": [],
   "source": [
    "def string_to_list(s):\n",
    "    if (pd.isna(s)) or (s==''):\n",
    "        return np.nan \n",
    "    \n",
    "    # Use ast.literal_eval to safely evaluate string representations of lists\n",
    "    try:\n",
    "        parsed_list = ast.literal_eval(s)\n",
    "    except (ValueError, SyntaxError):\n",
    "        # Fallback in case of any parsing errors\n",
    "        parsed_list = s.strip('[]').split(',')\n",
    "\n",
    "    # Strip any extra whitespace and quotes\n",
    "    return [item.strip().strip('\"').strip(\"'\") for item in parsed_list]"
   ]
  },
  {
   "cell_type": "code",
   "execution_count": 3,
   "metadata": {},
   "outputs": [],
   "source": [
    "df_books = pd.read_csv('../Input/books_data.csv',\n",
    "                       usecols=['Title', 'authors', 'publisher', 'publishedDate', 'categories'],\n",
    "                    #    nrows=1000,\n",
    "                       converters={\n",
    "    'authors': string_to_list,\n",
    "    'categories': string_to_list}\n",
    "    )"
   ]
  },
  {
   "cell_type": "code",
   "execution_count": 4,
   "metadata": {},
   "outputs": [],
   "source": [
    "\n",
    "df_ratings = pd.read_csv('../Input/Books_rating.csv')\n",
    "df_ratings['time'] = pd.to_datetime(df_ratings['time'], unit='s')\n"
   ]
  },
  {
   "cell_type": "code",
   "execution_count": 12,
   "metadata": {},
   "outputs": [
    {
     "data": {
      "text/plain": [
       "Title\n",
       "\" Film technique, \" and, \" Film acting \"                                                                                                    2\n",
       "\" We'll Always Have Paris\": The Definitive Guide to Great Lines from the Movies                                                             2\n",
       "\"... And Poetry is Born ...\" Russian Classical Poetry                                                                                       1\n",
       "\"A Titanic hero\" Thomas Andrews, shipbuilder                                                                                                8\n",
       "\"A Truthful Impression of the Country\": British and American Travel Writing in China, 1880-1949                                             1\n",
       "                                                                                                                                           ..\n",
       "with an everlasting love                                                                                                                   21\n",
       "work and Motivation                                                                                                                         1\n",
       "www.whitbread.org/book                                                                                                                      3\n",
       "xBase Programming for the True Beginner: An Introduction to the xBase Language in the Context of dBASE III+, IV, 5, FoxPro, and Clipper     1\n",
       "you can do anything with crepes                                                                                                             2\n",
       "Name: count, Length: 212403, dtype: int64"
      ]
     },
     "execution_count": 12,
     "metadata": {},
     "output_type": "execute_result"
    }
   ],
   "source": [
    "df_ratings['Title'].value_counts().sort_index()"
   ]
  },
  {
   "cell_type": "code",
   "execution_count": 5,
   "metadata": {},
   "outputs": [
    {
     "name": "stdout",
     "output_type": "stream",
     "text": [
      "Number of titles present in both DataFrames: 3000000\n",
      "Number of titles present only in df_books: 0\n",
      "Number of titles present only in df_ratings: 0\n"
     ]
    }
   ],
   "source": [
    "\n",
    "# Titles present in both DataFrames\n",
    "df = pd.merge(df_books, df_ratings, on='Title')\n",
    "\n",
    "# Titles present in df_books but not in df_ratings\n",
    "titles_only_in_books = df_books[~df_books['Title'].isin(df_ratings['Title'])]\n",
    "\n",
    "# Titles present in df_ratings but not in df_books\n",
    "titles_only_in_ratings = df_ratings[~df_ratings['Title'].isin(df_books['Title'])]\n",
    "\n",
    "# Output counts\n",
    "titles_in_both_count = len(df)\n",
    "titles_only_in_books_count = len(titles_only_in_books)\n",
    "titles_only_in_ratings_count = len(titles_only_in_ratings)\n",
    "\n",
    "# Display the results\n",
    "print(f\"Number of titles present in both DataFrames: {titles_in_both_count}\")\n",
    "print(f\"Number of titles present only in df_books: {titles_only_in_books_count}\")\n",
    "print(f\"Number of titles present only in df_ratings: {titles_only_in_ratings_count}\")\n"
   ]
  },
  {
   "cell_type": "code",
   "execution_count": null,
   "metadata": {},
   "outputs": [],
   "source": [
    "df.to_parquet('../Input/joined.parquet')"
   ]
  },
  {
   "cell_type": "code",
   "execution_count": 6,
   "metadata": {},
   "outputs": [],
   "source": [
    "del df_ratings, df_books"
   ]
  },
  {
   "cell_type": "code",
   "execution_count": 7,
   "metadata": {},
   "outputs": [
    {
     "name": "stdout",
     "output_type": "stream",
     "text": [
      "(3000000, 13)\n"
     ]
    },
    {
     "data": {
      "text/html": [
       "<div>\n",
       "<style scoped>\n",
       "    .dataframe tbody tr th:only-of-type {\n",
       "        vertical-align: middle;\n",
       "    }\n",
       "\n",
       "    .dataframe tbody tr th {\n",
       "        vertical-align: top;\n",
       "    }\n",
       "\n",
       "    .dataframe thead th {\n",
       "        text-align: right;\n",
       "    }\n",
       "</style>\n",
       "<table border=\"1\" class=\"dataframe\">\n",
       "  <thead>\n",
       "    <tr style=\"text-align: right;\">\n",
       "      <th></th>\n",
       "      <th>Title</th>\n",
       "      <th>authors</th>\n",
       "      <th>publisher</th>\n",
       "      <th>publishedDate</th>\n",
       "      <th>categories</th>\n",
       "      <th>Id</th>\n",
       "      <th>Price</th>\n",
       "      <th>User_id</th>\n",
       "      <th>profileName</th>\n",
       "      <th>score</th>\n",
       "      <th>time</th>\n",
       "      <th>summary</th>\n",
       "      <th>text</th>\n",
       "    </tr>\n",
       "  </thead>\n",
       "  <tbody>\n",
       "    <tr>\n",
       "      <th>0</th>\n",
       "      <td>Its Only Art If Its Well Hung!</td>\n",
       "      <td>[Julie Strain]</td>\n",
       "      <td>NaN</td>\n",
       "      <td>1996</td>\n",
       "      <td>[Comics &amp; Graphic Novels]</td>\n",
       "      <td>1882931173</td>\n",
       "      <td>NaN</td>\n",
       "      <td>AVCGYZL8FQQTD</td>\n",
       "      <td>Jim of Oz \"jim-of-oz\"</td>\n",
       "      <td>4.0</td>\n",
       "      <td>1999-10-23</td>\n",
       "      <td>Nice collection of Julie Strain images</td>\n",
       "      <td>This is only for Julie Strain fans. It's a col...</td>\n",
       "    </tr>\n",
       "    <tr>\n",
       "      <th>1</th>\n",
       "      <td>Dr. Seuss: American Icon</td>\n",
       "      <td>[Philip Nel]</td>\n",
       "      <td>A&amp;C Black</td>\n",
       "      <td>2005-01-01</td>\n",
       "      <td>[Biography &amp; Autobiography]</td>\n",
       "      <td>0826414346</td>\n",
       "      <td>NaN</td>\n",
       "      <td>A30TK6U7DNS82R</td>\n",
       "      <td>Kevin Killian</td>\n",
       "      <td>5.0</td>\n",
       "      <td>2004-09-21</td>\n",
       "      <td>Really Enjoyed It</td>\n",
       "      <td>I don't care much for Dr. Seuss but after read...</td>\n",
       "    </tr>\n",
       "    <tr>\n",
       "      <th>2</th>\n",
       "      <td>Dr. Seuss: American Icon</td>\n",
       "      <td>[Philip Nel]</td>\n",
       "      <td>A&amp;C Black</td>\n",
       "      <td>2005-01-01</td>\n",
       "      <td>[Biography &amp; Autobiography]</td>\n",
       "      <td>0826414346</td>\n",
       "      <td>NaN</td>\n",
       "      <td>A3UH4UZ4RSVO82</td>\n",
       "      <td>John Granger</td>\n",
       "      <td>5.0</td>\n",
       "      <td>2004-03-09</td>\n",
       "      <td>Essential for every personal and Public Library</td>\n",
       "      <td>If people become the books they read and if \"t...</td>\n",
       "    </tr>\n",
       "    <tr>\n",
       "      <th>3</th>\n",
       "      <td>Dr. Seuss: American Icon</td>\n",
       "      <td>[Philip Nel]</td>\n",
       "      <td>A&amp;C Black</td>\n",
       "      <td>2005-01-01</td>\n",
       "      <td>[Biography &amp; Autobiography]</td>\n",
       "      <td>0826414346</td>\n",
       "      <td>NaN</td>\n",
       "      <td>A2MVUWT453QH61</td>\n",
       "      <td>Roy E. Perry \"amateur philosopher\"</td>\n",
       "      <td>4.0</td>\n",
       "      <td>2004-07-25</td>\n",
       "      <td>Phlip Nel gives silly Seuss a serious treatment</td>\n",
       "      <td>Theodore Seuss Geisel (1904-1991), aka &amp;quot;D...</td>\n",
       "    </tr>\n",
       "    <tr>\n",
       "      <th>4</th>\n",
       "      <td>Dr. Seuss: American Icon</td>\n",
       "      <td>[Philip Nel]</td>\n",
       "      <td>A&amp;C Black</td>\n",
       "      <td>2005-01-01</td>\n",
       "      <td>[Biography &amp; Autobiography]</td>\n",
       "      <td>0826414346</td>\n",
       "      <td>NaN</td>\n",
       "      <td>A22X4XUPKF66MR</td>\n",
       "      <td>D. H. Richards \"ninthwavestore\"</td>\n",
       "      <td>4.0</td>\n",
       "      <td>2005-02-10</td>\n",
       "      <td>Good academic overview</td>\n",
       "      <td>Philip Nel - Dr. Seuss: American IconThis is b...</td>\n",
       "    </tr>\n",
       "  </tbody>\n",
       "</table>\n",
       "</div>"
      ],
      "text/plain": [
       "                            Title         authors  publisher publishedDate  \\\n",
       "0  Its Only Art If Its Well Hung!  [Julie Strain]        NaN          1996   \n",
       "1        Dr. Seuss: American Icon    [Philip Nel]  A&C Black    2005-01-01   \n",
       "2        Dr. Seuss: American Icon    [Philip Nel]  A&C Black    2005-01-01   \n",
       "3        Dr. Seuss: American Icon    [Philip Nel]  A&C Black    2005-01-01   \n",
       "4        Dr. Seuss: American Icon    [Philip Nel]  A&C Black    2005-01-01   \n",
       "\n",
       "                    categories          Id  Price         User_id  \\\n",
       "0    [Comics & Graphic Novels]  1882931173    NaN   AVCGYZL8FQQTD   \n",
       "1  [Biography & Autobiography]  0826414346    NaN  A30TK6U7DNS82R   \n",
       "2  [Biography & Autobiography]  0826414346    NaN  A3UH4UZ4RSVO82   \n",
       "3  [Biography & Autobiography]  0826414346    NaN  A2MVUWT453QH61   \n",
       "4  [Biography & Autobiography]  0826414346    NaN  A22X4XUPKF66MR   \n",
       "\n",
       "                          profileName  score       time  \\\n",
       "0               Jim of Oz \"jim-of-oz\"    4.0 1999-10-23   \n",
       "1                       Kevin Killian    5.0 2004-09-21   \n",
       "2                        John Granger    5.0 2004-03-09   \n",
       "3  Roy E. Perry \"amateur philosopher\"    4.0 2004-07-25   \n",
       "4     D. H. Richards \"ninthwavestore\"    4.0 2005-02-10   \n",
       "\n",
       "                                           summary  \\\n",
       "0           Nice collection of Julie Strain images   \n",
       "1                                Really Enjoyed It   \n",
       "2  Essential for every personal and Public Library   \n",
       "3  Phlip Nel gives silly Seuss a serious treatment   \n",
       "4                           Good academic overview   \n",
       "\n",
       "                                                text  \n",
       "0  This is only for Julie Strain fans. It's a col...  \n",
       "1  I don't care much for Dr. Seuss but after read...  \n",
       "2  If people become the books they read and if \"t...  \n",
       "3  Theodore Seuss Geisel (1904-1991), aka &quot;D...  \n",
       "4  Philip Nel - Dr. Seuss: American IconThis is b...  "
      ]
     },
     "execution_count": 7,
     "metadata": {},
     "output_type": "execute_result"
    }
   ],
   "source": [
    "print(df.shape)\n",
    "df.head()"
   ]
  },
  {
   "cell_type": "code",
   "execution_count": 8,
   "metadata": {},
   "outputs": [],
   "source": [
    "df_authors = df.explode('authors')"
   ]
  },
  {
   "cell_type": "code",
   "execution_count": 10,
   "metadata": {},
   "outputs": [
    {
     "data": {
      "text/plain": [
       "authors\n",
       "Florence Lemoine             1.0\n",
       "Benjamin Nathaniel Bogue     1.0\n",
       "Robert Higham                1.0\n",
       "Tanya R. Davis               1.0\n",
       "David Barash                 1.0\n",
       "                            ... \n",
       "黒田領治                         5.0\n",
       "문진미디어편집부                     5.0\n",
       "알렉상드르 뒤마(Alexandre Dumas)    5.0\n",
       "편집부                          5.0\n",
       "108cd                        5.0\n",
       "Name: score, Length: 153056, dtype: float64"
      ]
     },
     "execution_count": 10,
     "metadata": {},
     "output_type": "execute_result"
    }
   ],
   "source": [
    "df_authors.groupby('authors')['score'].mean().sort_values()"
   ]
  },
  {
   "cell_type": "code",
   "execution_count": 11,
   "metadata": {},
   "outputs": [],
   "source": [
    "df_categories = df.explode('categories')"
   ]
  },
  {
   "cell_type": "code",
   "execution_count": 24,
   "metadata": {},
   "outputs": [
    {
     "data": {
      "text/plain": [
       "1         3002\n",
       "2         1564\n",
       "3          872\n",
       "4          646\n",
       "5          478\n",
       "          ... \n",
       "89988        1\n",
       "98035        1\n",
       "107791       1\n",
       "207542       1\n",
       "824439       1\n",
       "Name: count, Length: 473, dtype: int64"
      ]
     },
     "execution_count": 24,
     "metadata": {},
     "output_type": "execute_result"
    }
   ],
   "source": [
    "df_categories.groupby('categories').size().value_counts().sort_index()"
   ]
  },
  {
   "cell_type": "code",
   "execution_count": 18,
   "metadata": {},
   "outputs": [
    {
     "data": {
      "text/plain": [
       "<Axes: xlabel='categories'>"
      ]
     },
     "execution_count": 18,
     "metadata": {},
     "output_type": "execute_result"
    },
    {
     "data": {
      "image/png": "[encoded data removed]",
      "text/plain": [
       "<Figure size 640x480 with 1 Axes>"
      ]
     },
     "metadata": {},
     "output_type": "display_data"
    }
   ],
   "source": [
    "df_categories[['categories']].value_counts().plot()"
   ]
  },
  {
   "cell_type": "code",
   "execution_count": 12,
   "metadata": {},
   "outputs": [
    {
     "data": {
      "text/plain": [
       "categories\n",
       "A Grow and Learn Library                     1.0\n",
       "360-degree feedback (Rating of employees)    1.0\n",
       "Autodesk Inventor (Electronic resource)      1.0\n",
       "Expressionism (Art)                          1.0\n",
       "Barbary horse                                1.0\n",
       "                                            ... \n",
       "Yosemite National Park (Calif.)              5.0\n",
       "Abalone fisheries                            5.0\n",
       "Abacus                                       5.0\n",
       "AIDS (Disease) and art                       5.0\n",
       "ABible                                       5.0\n",
       "Name: score, Length: 10883, dtype: float64"
      ]
     },
     "execution_count": 12,
     "metadata": {},
     "output_type": "execute_result"
    }
   ],
   "source": [
    "df_categories.groupby('categories')['score'].mean().sort_values()"
   ]
  }
 ],
 "metadata": {
  "kernelspec": {
   "display_name": "env",
   "language": "python",
   "name": "python3"
  },
  "language_info": {
   "codemirror_mode": {
    "name": "ipython",
    "version": 3
   },
   "file_extension": ".py",
   "mimetype": "text/x-python",
   "name": "python",
   "nbconvert_exporter": "python",
   "pygments_lexer": "ipython3",
   "version": "3.10.12"
  }
 },
 "nbformat": 4,
 "nbformat_minor": 2
}
